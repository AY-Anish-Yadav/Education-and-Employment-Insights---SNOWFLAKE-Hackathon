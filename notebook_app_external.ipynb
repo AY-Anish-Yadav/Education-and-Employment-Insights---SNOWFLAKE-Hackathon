{
 "metadata": {
  "kernelspec": {
   "display_name": "Streamlit Notebook",
   "name": "streamlit"
  }
 },
 "nbformat_minor": 5,
 "nbformat": 4,
 "cells": [
  {
   "cell_type": "markdown",
   "id": "5e3cb4b6-4faa-410c-860b-e2eced7e40a5",
   "metadata": {
    "name": "cell25",
    "collapsed": false
   },
   "source": "## School Education Satistics"
  },
  {
   "cell_type": "markdown",
   "id": "564c2c09-7d61-43ba-935b-0ae890074b22",
   "metadata": {
    "name": "cell15",
    "collapsed": false
   },
   "source": "### Import Necessary Packages\n"
  },
  {
   "cell_type": "code",
   "id": "3775908f-ca36-4846-8f38-5adca39217f2",
   "metadata": {
    "language": "python",
    "name": "cell1",
    "collapsed": false,
    "codeCollapsed": false
   },
   "source": "import pandas as pd\nimport matplotlib.pyplot as plt\nimport seaborn as sns\n# We can also use Snowpark for our analyses!\nfrom snowflake.snowpark.context import get_active_session\nfrom snowflake.snowpark.functions import col, avg\nsession = get_active_session()",
   "execution_count": null,
   "outputs": []
  },
  {
   "cell_type": "markdown",
   "id": "c1a3b92e-4e43-447a-8db3-a1b425607fe5",
   "metadata": {
    "name": "cell16",
    "collapsed": false
   },
   "source": "### Load CSVs into DataFrames"
  },
  {
   "cell_type": "code",
   "id": "a0013142-3d17-4dc1-9757-4960a86a716d",
   "metadata": {
    "language": "python",
    "name": "cell2",
    "collapsed": false,
    "codeCollapsed": false
   },
   "outputs": [],
   "source": "dor_df = session.table(\"DOR_DATA\")\nger_df = session.table(\"GER_DATA\")\nbtoilet_df = session.table(\"SCHOOL_WITH_BTOILET\")\ngtoilet_df = session.table(\"SCHOOL_WITH_GTOILET\")\nwater_df = session.table(\"SCHOOL_WITH_WATER\")",
   "execution_count": null
  },
  {
   "cell_type": "markdown",
   "id": "179a34de-3364-43d3-8e30-4fc86e76b210",
   "metadata": {
    "name": "cell17",
    "collapsed": false
   },
   "source": "### Describe the data (summary statistics)"
  },
  {
   "cell_type": "code",
   "id": "8183ed2a-ce22-499b-aaf7-ec44cbd9cf26",
   "metadata": {
    "language": "python",
    "name": "cell3",
    "codeCollapsed": false
   },
   "outputs": [],
   "source": "dor_df.describe().show()\nger_df.describe().show()\nbtoilet_df.describe().show()\ngtoilet_df.describe().show()\nwater_df.describe().show()",
   "execution_count": null
  },
  {
   "cell_type": "markdown",
   "id": "001a4a6f-6bae-4a09-816e-1484e301db25",
   "metadata": {
    "name": "cell18",
    "collapsed": false
   },
   "source": "### Loop through each dataset and calculate missing values"
  },
  {
   "cell_type": "code",
   "id": "d4e9d0a0-b4c1-4499-a839-259558734169",
   "metadata": {
    "language": "python",
    "name": "cell4",
    "codeCollapsed": false,
    "collapsed": false
   },
   "outputs": [],
   "source": "# Define the datasets\ndatasets = {\n    \"DOR\": dor_df,\n    \"GER_1\": ger_df,\n    \"school_with_btoilet\": btoilet_df,\n    \"school_with_gtoilet\": gtoilet_df,\n    \"school_with_water\": water_df\n}\n\nfor dataset_name, df in datasets.items():\n    print(f\"Missing values for {dataset_name} dataset:\")\n    \n    # Calculate missing values for each column\n    missing_values = df.select(\n        [sum(col(c).isNull().cast(\"int\")).alias(c + \"_missing\") for c in df.columns]\n    )\n    \n    # Show missing values\n    missing_values.show()",
   "execution_count": null
  },
  {
   "cell_type": "markdown",
   "id": "46ff74c3-f14a-4c7c-9dac-f7367da501d5",
   "metadata": {
    "name": "cell19",
    "collapsed": false
   },
   "source": "### Gross Enrolment Ratio from 2013-14 to 2015-16"
  },
  {
   "cell_type": "code",
   "id": "22219ac5-23e1-46e0-ab81-083b55d6a359",
   "metadata": {
    "language": "python",
    "name": "cell8",
    "codeCollapsed": false,
    "collapsed": false
   },
   "outputs": [],
   "source": "# Load data from Snowflake table\nger_df = session.table(\"GER_DATA\").to_pandas()\n# Display the first few rows of the DataFrame\nprint(ger_df.head())",
   "execution_count": null
  },
  {
   "cell_type": "markdown",
   "id": "edf3ff91-c81d-4ec3-8ef4-e71345a20539",
   "metadata": {
    "name": "cell20",
    "collapsed": false
   },
   "source": "##### Average Gross Enrollment Ratio (GER) by Education Level (2013-2014 to 2015-2016"
  },
  {
   "cell_type": "code",
   "id": "9441b824-ebdd-4fde-b34e-d4395dc5fd5d",
   "metadata": {
    "language": "python",
    "name": "cell5",
    "collapsed": false,
    "codeCollapsed": false
   },
   "outputs": [],
   "source": "# Load data from Snowflake table\nger_df = session.table(\"GER_DATA\").to_pandas()\n# Data Cleaning: Convert columns to appropriate data types if needed\nger_df['YEAR'] = ger_df['YEAR'].astype(str)\n# Calculate average GER by education level\navg_ger = ger_df.groupby('YEAR')[['PRIMARY_TOTAL', 'UPPER_PRIMARY_TOTAL', 'SECONDARY_TOTAL', 'HIGHER_SECONDARY_TOTAL']].mean()\navg_ger.plot(kind='bar')\nplt.title('Average Gross Enrollment Ratio (GER) by Education Level (2013-2014 to 2015-2016)')\nplt.xlabel('Year')\nplt.ylabel('Average GER')\nplt.xticks(rotation=45)\nplt.legend(title='Education Level', bbox_to_anchor=(1.05, 1), loc='upper left')\nplt.grid(axis='y')\nplt.tight_layout()\nplt.show()\n\n\n\n",
   "execution_count": null
  },
  {
   "cell_type": "markdown",
   "id": "4570ff83-0ce1-4114-aec7-810cb45248da",
   "metadata": {
    "name": "cell21",
    "collapsed": false
   },
   "source": "##### Average Gross Enrollment Ratio by State/UT (2013-2014)"
  },
  {
   "cell_type": "code",
   "id": "d9ee1dc1-fee6-4284-81f8-6e55fc5c019a",
   "metadata": {
    "language": "python",
    "name": "cell6",
    "codeCollapsed": false,
    "collapsed": false
   },
   "outputs": [],
   "source": "\n\n# Calculate the total GER across all education levels for each state/UT and year\nger_df['TOTAL_GER'] = ger_df[['PRIMARY_TOTAL', 'UPPER_PRIMARY_TOTAL', 'SECONDARY_TOTAL', 'HIGHER_SECONDARY_TOTAL']].sum(axis=1)\n\n# Identify the mean of total GER across all states/UTs and years\nmean_ger = ger_df['TOTAL_GER'].mean()\n\n# Count states/UTs with total GER greater than the mean\ngreater_than_mean_count = ger_df[ger_df['TOTAL_GER'] > mean_ger].shape[0]\n\n# Count states/UTs with total GER less than or equal to the mean\nless_than_equal_mean_count = ger_df[ger_df['TOTAL_GER'] <= mean_ger].shape[0]\n\n# Display the counts\nprint(\"Count of States/UTs with Total GER Greater than Mean:\", greater_than_mean_count)\nprint(\"Count of States/UTs with Total GER Less than or Equal to Mean:\", less_than_equal_mean_count)\n\n# Identify states/UTs with the lowest and highest GER\nlow_ger_state = ger_df.loc[ger_df['TOTAL_GER'].idxmin()]\nhigh_ger_state = ger_df.loc[ger_df['TOTAL_GER'].idxmax()]\n\n# Plotting the GER data for visualization\nsns.barplot(x='STATE_UT', y='TOTAL_GER', data=ger_df, errorbar=None, color='lightblue')\n\n# Overlay points for the states/UTs with lowest and highest GER\nplt.scatter(low_ger_state['STATE_UT'], low_ger_state['TOTAL_GER'], color='red', s=100, label='Lowest GER')\nplt.scatter(high_ger_state['STATE_UT'], high_ger_state['TOTAL_GER'], color='green', s=100, label='Highest GER')\n\n# Adding titles and labels\nplt.title('Total GER by State/UT (2013-2016)', fontsize=16)\nplt.xlabel('State/UT', fontsize=14)\nplt.ylabel('Total GER', fontsize=14)\n\n# Adjust x-axis labels for better visibility\nplt.xticks(rotation=90, ha='right')\nplt.axhline(mean_ger, color='orange', linestyle='--', label='mean_ger')\n\n# Adding legend\nplt.legend()\nplt.tight_layout()\nplt.show()\n",
   "execution_count": null
  },
  {
   "cell_type": "markdown",
   "id": "18ea73ef-7242-41ee-a839-2926d151b6c0",
   "metadata": {
    "name": "cell22",
    "collapsed": false
   },
   "source": "### Schools with Boys Toilet from 2013-14 to 2015-16\n##### Total Boys Toilets by State/UT (2013-2016)"
  },
  {
   "cell_type": "code",
   "id": "239a2abb-cae6-4f7a-82f6-9a19c3520b68",
   "metadata": {
    "language": "python",
    "name": "cell14",
    "codeCollapsed": false
   },
   "outputs": [],
   "source": "# Load data from Snowflake table\nbtoilet_df = session.table(\"SCHOOL_WITH_BTOILET\").to_pandas()\n\n# Ensure all column names are in uppercase\nbtoilet_df.columns = btoilet_df.columns.str.upper()\n\n# Calculate the total count of boys' toilets across all years\nbtoilet_df['TOTAL_BOYS_TOILETS'] = btoilet_df[['PRIMARY_ONLY', 'PRIMARY_WITH_U_PRIMARY',\n    'PRIMARY_WITH_U_PRIMARY_SEC_HRSEC', 'U_PRIMARY_ONLY', 'U_PRIMARY_WITH_SEC_HRSEC',\n    'PRIMARY_WITH_U_PRIMARY_SEC', 'U_PRIMARY_WITH_SEC', 'SEC_ONLY', \n    'SEC_WITH_HRSEC', 'HRSEC_ONLY']].sum(axis=1)\n\n# Identify the mean of total boys' toilets\nmean_boys_toilets = btoilet_df['TOTAL_BOYS_TOILETS'].mean()\n\n# Count states with total boys toilets greater than mean\ngreater_than_mean_count = btoilet_df[btoilet_df['TOTAL_BOYS_TOILETS'] > mean_boys_toilets].shape[0]\n\n# Count states with total boys toilets less than or equal to mean\nless_than_equal_mean_count = btoilet_df[btoilet_df['TOTAL_BOYS_TOILETS'] <= mean_boys_toilets].shape[0]\n\n# Display counts\nprint(\"Count of States with Total Boys Toilets Greater than Mean:\", greater_than_mean_count)\nprint(\"Count of States with Total Boys Toilets Less than or Equal to Mean:\", less_than_equal_mean_count)\n\n# Identify states with low and high boys' toilet availability\nlow_btoilet_state = btoilet_df.loc[btoilet_df['TOTAL_BOYS_TOILETS'].idxmin()]\nhigh_btoilet_state = btoilet_df.loc[btoilet_df['TOTAL_BOYS_TOILETS'].idxmax()]\n\n# Bar plot for total boys' toilets across all states without specifying a palette\nsns.barplot(x='STATE_UT', y='TOTAL_BOYS_TOILETS', data=btoilet_df, errorbar=None, color='skyblue')\n\n# Overlay points for the states with lowest and highest boys' toilet availability\nplt.scatter(low_btoilet_state['STATE_UT'], low_btoilet_state['TOTAL_BOYS_TOILETS'], color='red', s=100, label='Lowest Boys Toilets')\nplt.scatter(high_btoilet_state['STATE_UT'], high_btoilet_state['TOTAL_BOYS_TOILETS'], color='green', s=100, label='Highest Boys Toilets')\n\n# Adding titles and labels\nplt.title('', fontsize=16)\nplt.xlabel('State/UT', fontsize=14)\nplt.ylabel('Total Boys Toilets', fontsize=14)\n\n# Adjust x-axis labels for better visibility\nplt.xticks(rotation=90, ha='right')\nplt.axhline(mean_boys_toilets, color='orange', linestyle='--', label='Mean Boys Toilets')\n\n# Adding legend\nplt.legend()\nplt.tight_layout()\nplt.show()",
   "execution_count": null
  },
  {
   "cell_type": "markdown",
   "id": "81b2a92f-43a6-472c-898c-e3ec8c4e8b2d",
   "metadata": {
    "name": "cell23",
    "collapsed": false
   },
   "source": "### Schools with Girls Toilet from 2013-14 to 2015-16\n##### Total Girls Toilets by State/UT (2013-2016)"
  },
  {
   "cell_type": "code",
   "id": "48f42bec-c173-4932-ba37-1e31d6fed2d0",
   "metadata": {
    "language": "python",
    "name": "cell11",
    "codeCollapsed": false
   },
   "outputs": [],
   "source": "# Load data from Snowflake table\ngtoilet_df = session.table(\"SCHOOL_WITH_GTOILET\").to_pandas()\n# Ensure all column names are in uppercase\ngtoilet_df.columns = gtoilet_df.columns.str.upper()\n\n# Calculate the total count of girls' toilets across all years\ngtoilet_df['TOTAL_GIRLS_TOILETS'] = gtoilet_df[['PRIMARY_ONLY', 'PRIMARY_WITH_U_PRIMARY',\n    'PRIMARY_WITH_U_PRIMARY_SEC_HRSEC', 'U_PRIMARY_ONLY', 'U_PRIMARY_WITH_SEC_HRSEC',\n    'PRIMARY_WITH_U_PRIMARY_SEC', 'U_PRIMARY_WITH_SEC', 'SEC_ONLY', \n    'SEC_WITH_HRSEC', 'HRSEC_ONLY', 'ALL_SCHOOLS']].sum(axis=1)\n\n# Identify the mean of total girls' toilets\nmean_girls_toilets = gtoilet_df['TOTAL_GIRLS_TOILETS'].mean()\n\n# Count states with total girls' toilets greater than mean\ngreater_than_mean_count = gtoilet_df[gtoilet_df['TOTAL_GIRLS_TOILETS'] > mean_girls_toilets].shape[0]\n\n# Count states with total girls' toilets less than or equal to mean\nless_than_equal_mean_count = gtoilet_df[gtoilet_df['TOTAL_GIRLS_TOILETS'] <= mean_girls_toilets].shape[0]\n\n# Display counts\nprint(\"Count of States with Total Girls Toilets Greater than Mean:\", greater_than_mean_count)\nprint(\"Count of States with Total Girls Toilets Less than or Equal to Mean:\", less_than_equal_mean_count)\n\n# Identify states with low and high girls' toilet availability\nlow_gtoilet_state = gtoilet_df.loc[gtoilet_df['TOTAL_GIRLS_TOILETS'].idxmin()]\nhigh_gtoilet_state = gtoilet_df.loc[gtoilet_df['TOTAL_GIRLS_TOILETS'].idxmax()]\n\n# Bar plot for total girls' toilets across all states\n\nsns.barplot(x='STATE_UT', y='TOTAL_GIRLS_TOILETS', data=gtoilet_df, errorbar=None, color='lightpink')\n\n# Overlay points for the states with lowest and highest girls' toilet availability\nplt.scatter(low_gtoilet_state['STATE_UT'], low_gtoilet_state['TOTAL_GIRLS_TOILETS'], color='red', s=100, label='Lowest Girls Toilets')\nplt.scatter(high_gtoilet_state['STATE_UT'], high_gtoilet_state['TOTAL_GIRLS_TOILETS'], color='green', s=100, label='Highest Girls Toilets')\n\n# Adding titles and labels\nplt.title('Total Girls Toilets by State/UT (2013-2016)', fontsize=16)\nplt.xlabel('State/UT', fontsize=14)\nplt.ylabel('Total Girls Toilets', fontsize=14)\n\n# Adjust x-axis labels for better visibility\nplt.xticks(rotation=90, ha='right')\nplt.axhline(mean_girls_toilets, color='orange', linestyle='--', label='Mean Girls Toilets')\n\n# Adding legend\nplt.legend()\nplt.tight_layout()\nplt.show()\n",
   "execution_count": null
  },
  {
   "cell_type": "markdown",
   "id": "cd33ec2c-c422-4714-a640-b1aae3ebfdb7",
   "metadata": {
    "name": "cell9",
    "collapsed": false
   },
   "source": "### Percentage of Schools with Drinking Water Facility from 2013-14 to 2015-16\n##### Total Water Availability by State/UT (2013-2016)"
  },
  {
   "cell_type": "code",
   "id": "6155edad-8cc8-4553-a37c-b28eae5a5824",
   "metadata": {
    "language": "python",
    "name": "cell13",
    "codeCollapsed": false,
    "collapsed": false
   },
   "outputs": [],
   "source": "# Load data from Snowflake table\nwater_df = session.table(\"SCHOOL_WITH_WATER\").to_pandas()\n# Ensure all column names are in uppercase\nwater_df.columns = water_df.columns.str.upper()\n# Calculate the total count of water availability across all years\nwater_df['TOTAL_WATER_AVAILABILITY'] = water_df[['PRIMARY_ONLY', 'PRIMARY_WITH_U_PRIMARY',\n    'PRIMARY_WITH_U_PRIMARY_SEC_HRSEC', 'U_PRIMARY_ONLY', 'U_PRIMARY_WITH_SEC_HRSEC',\n    'PRIMARY_WITH_U_PRIMARY_SEC', 'U_PRIMARY_WITH_SEC', 'SEC_ONLY', \n    'SEC_WITH_HRSEC', 'HRSEC_ONLY', 'ALL_SCHOOLS']].sum(axis=1)\n\n# Identify the mean of total water availability\nmean_water_availability = water_df['TOTAL_WATER_AVAILABILITY'].mean()\n\n# Count states with total water availability greater than mean\ngreater_than_mean_count = water_df[water_df['TOTAL_WATER_AVAILABILITY'] > mean_water_availability].shape[0]\n\n# Count states with total water availability less than or equal to mean\nless_than_equal_mean_count = water_df[water_df['TOTAL_WATER_AVAILABILITY'] <= mean_water_availability].shape[0]\n\n# Display counts\nprint(\"Count of States with Total Water Availability Greater than Mean:\", greater_than_mean_count)\nprint(\"Count of States with Total Water Availability Less than or Equal to Mean:\", less_than_equal_mean_count)\n\n# Identify states with low and high water availability\nlow_water_state = water_df.loc[water_df['TOTAL_WATER_AVAILABILITY'].idxmin()]\nhigh_water_state = water_df.loc[water_df['TOTAL_WATER_AVAILABILITY'].idxmax()]\n\n# Bar plot for total water availability across all states\nsns.barplot(x='STATE_UT', y='TOTAL_WATER_AVAILABILITY', data=water_df, errorbar=None, color='lightblue')\n\n# Overlay points for the states with lowest and highest water availability\nplt.scatter(low_water_state['STATE_UT'], low_water_state['TOTAL_WATER_AVAILABILITY'], color='red', s=100, label='Lowest Water Availability')\nplt.scatter(high_water_state['STATE_UT'], high_water_state['TOTAL_WATER_AVAILABILITY'], color='green', s=100, label='Highest Water Availability')\n\n# Adding titles and labels\nplt.title('Total Water Availability by State/UT (2013-2016)', fontsize=16)\nplt.xlabel('State/UT', fontsize=14)\nplt.ylabel('Total Water Availability', fontsize=14)\n\n# Adjust x-axis labels for better visibility\nplt.xticks(rotation=90, ha='right')\nplt.axhline(mean_water_availability, color='orange', linestyle='--', label='Mean Water Availability')\n\n# Adding legend\nplt.legend()\nplt.tight_layout()\nplt.show()\n\n",
   "execution_count": null
  },
  {
   "cell_type": "markdown",
   "id": "0d088c68-0b48-4dba-bb06-706139ee2e37",
   "metadata": {
    "name": "cell10",
    "collapsed": false
   },
   "source": "### Drop-out Rate from 2012-13 to 2014-15\n##### Primary Drop-out Rates by State/UT (2012-2015)"
  },
  {
   "cell_type": "code",
   "id": "fd9ed1d8-ea4e-4e48-835a-15afc74d04c8",
   "metadata": {
    "language": "python",
    "name": "cell12",
    "codeCollapsed": false
   },
   "outputs": [],
   "source": "# Load data from Snowflake table\ndor_df = session.table(\"DOR_DATA\").to_pandas()\n# Ensure all column names are in uppercase\ndor_df.columns = dor_df.columns.str.upper()\n\n# Drop any rows with NR (Not Reported) or incorrect values, if needed\ndor_df = dor_df.replace('NR', pd.NA)\ndor_df = dor_df.dropna()\n\n# Calculate the total drop-out rates across different education levels for each state and year\ndor_df['PRIMARY_TOTAL_DROP_OUT'] = dor_df[['PRIMARY_BOYS', 'PRIMARY_GIRLS', 'PRIMARY_TOTAL']].mean(axis=1)\ndor_df['UPPER_PRIMARY_TOTAL_DROP_OUT'] = dor_df[['UPPER_PRIMARY_BOYS', 'UPPER_PRIMARY_GIRLS', 'UPPER_PRIMARY_TOTAL']].mean(axis=1)\ndor_df['SECONDARY_TOTAL_DROP_OUT'] = dor_df[['SECONDARY_BOYS', 'SECONDARY_GIRLS', 'SECONDARY_TOTAL']].mean(axis=1)\ndor_df['HR_SECONDARY_TOTAL_DROP_OUT'] = dor_df[['HRSECONDARY_BOYS', 'HRSECONDARY_GIRLS', 'HRSECONDARY_TOTAL']].mean(axis=1)\n\n# Calculate mean drop-out rates across all states\nmean_primary_drop_out = dor_df['PRIMARY_TOTAL_DROP_OUT'].mean()\nmean_upper_primary_drop_out = dor_df['UPPER_PRIMARY_TOTAL_DROP_OUT'].mean()\nmean_secondary_drop_out = dor_df['SECONDARY_TOTAL_DROP_OUT'].mean()\nmean_hr_secondary_drop_out = dor_df['HR_SECONDARY_TOTAL_DROP_OUT'].mean()\n\n# Count states with drop-out rates greater than the mean for each education level\nprimary_above_mean_count = dor_df[dor_df['PRIMARY_TOTAL_DROP_OUT'] > mean_primary_drop_out].shape[0]\nupper_primary_above_mean_count = dor_df[dor_df['UPPER_PRIMARY_TOTAL_DROP_OUT'] > mean_upper_primary_drop_out].shape[0]\nsecondary_above_mean_count = dor_df[dor_df['SECONDARY_TOTAL_DROP_OUT'] > mean_secondary_drop_out].shape[0]\nhr_secondary_above_mean_count = dor_df[dor_df['HR_SECONDARY_TOTAL_DROP_OUT'] > mean_hr_secondary_drop_out].shape[0]\n\n# Count states with drop-out rates less than or equal to the mean\nprimary_below_mean_count = dor_df[dor_df['PRIMARY_TOTAL_DROP_OUT'] <= mean_primary_drop_out].shape[0]\nupper_primary_below_mean_count = dor_df[dor_df['UPPER_PRIMARY_TOTAL_DROP_OUT'] <= mean_upper_primary_drop_out].shape[0]\nsecondary_below_mean_count = dor_df[dor_df['SECONDARY_TOTAL_DROP_OUT'] <= mean_secondary_drop_out].shape[0]\nhr_secondary_below_mean_count = dor_df[dor_df['HR_SECONDARY_TOTAL_DROP_OUT'] <= mean_hr_secondary_drop_out].shape[0]\n\n# Print counts for each education level\nprint(\"Primary - States with Drop-out Rate Above Mean:\", primary_above_mean_count)\nprint(\"Primary - States with Drop-out Rate Below or Equal to Mean:\", primary_below_mean_count)\nprint(\"Upper Primary - States with Drop-out Rate Above Mean:\", upper_primary_above_mean_count)\nprint(\"Upper Primary - States with Drop-out Rate Below or Equal to Mean:\", upper_primary_below_mean_count)\nprint(\"Secondary - States with Drop-out Rate Above Mean:\", secondary_above_mean_count)\nprint(\"Secondary - States with Drop-out Rate Below or Equal to Mean:\", secondary_below_mean_count)\nprint(\"Higher Secondary - States with Drop-out Rate Above Mean:\", hr_secondary_above_mean_count)\nprint(\"Higher Secondary - States with Drop-out Rate Below or Equal to Mean:\", hr_secondary_below_mean_count)\n\n# Identify states with lowest and highest drop-out rates for each level\nlow_primary_state = dor_df.loc[dor_df['PRIMARY_TOTAL_DROP_OUT'].idxmin()]\nhigh_primary_state = dor_df.loc[dor_df['PRIMARY_TOTAL_DROP_OUT'].idxmax()]\nlow_secondary_state = dor_df.loc[dor_df['SECONDARY_TOTAL_DROP_OUT'].idxmin()]\nhigh_secondary_state = dor_df.loc[dor_df['SECONDARY_TOTAL_DROP_OUT'].idxmax()]\n\n# Bar plot for total drop-out rates across all states for Primary education level\nsns.barplot(x='STATE_UT', y='PRIMARY_TOTAL_DROP_OUT', data=dor_df, errorbar=None, color='lightblue')\n\n# Overlay points for the states with lowest and highest primary drop-out rates\nplt.scatter(low_primary_state['STATE_UT'], low_primary_state['PRIMARY_TOTAL_DROP_OUT'], color='red', s=100, label='Lowest Primary Drop-out')\nplt.scatter(high_primary_state['STATE_UT'], high_primary_state['PRIMARY_TOTAL_DROP_OUT'], color='green', s=100, label='Highest Primary Drop-out')\n\n# Adding titles and labels\nplt.title('Primary Drop-out Rates by State/UT (2012-2015)', fontsize=16)\nplt.xlabel('State/UT', fontsize=14)\nplt.ylabel('Primary Drop-out Rate', fontsize=14)\n\n# Adjust x-axis labels for better visibility\nplt.xticks(rotation=90, ha='right')\nplt.axhline(mean_primary_drop_out, color='orange', linestyle='--', label='Mean Primary Drop-out Rate')\n\n# Adding legend\nplt.legend()\nplt.tight_layout()\nplt.show()\n",
   "execution_count": null
  },
  {
   "cell_type": "code",
   "id": "5f8d732b-541f-49ec-b499-545a23f8d073",
   "metadata": {
    "language": "python",
    "name": "cell24",
    "codeCollapsed": false
   },
   "outputs": [],
   "source": "",
   "execution_count": null
  },
  {
   "cell_type": "markdown",
   "id": "84854a19-598e-46e9-95fa-d03577ca10b8",
   "metadata": {
    "name": "cell7",
    "collapsed": false
   },
   "source": "### Conclusion:\nWhile Tamil Nadu excels in enrollment and school facilities, Nagaland lags in both infrastructure and educational outcomes. Water availability shows significant variation, with Delhi performing well but Nagaland and Mizoram struggling. Drop-out rates remain a challenge, particularly in higher grades.\n\nThis gives a holistic view of education access and infrastructure, highlighting regional disparities."
  },
  {
   "cell_type": "markdown",
   "id": "6d5e88d7-7b93-446e-8e33-81ccfa745488",
   "metadata": {
    "name": "cell26",
    "collapsed": false
   },
   "source": ""
  }
 ]
}