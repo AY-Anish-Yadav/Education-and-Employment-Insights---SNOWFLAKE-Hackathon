{
 "metadata": {
  "kernelspec": {
   "display_name": "Streamlit Notebook",
   "name": "streamlit"
  }
 },
 "nbformat_minor": 5,
 "nbformat": 4,
 "cells": [
  {
   "cell_type": "markdown",
   "id": "40df7921-f1e8-4327-a048-cdc3dccd93d3",
   "metadata": {
    "name": "cell3",
    "collapsed": false
   },
   "source": "### Physical Progress Of The Total Sanitation Campaign In Eleventh Plan During Financial Year (2007-08 To 2011-12)\n##### Import Necessary Packages"
  },
  {
   "cell_type": "code",
   "id": "44bc0002-ef38-4688-9f35-d25d793822cb",
   "metadata": {
    "language": "python",
    "name": "cell4",
    "codeCollapsed": false,
    "collapsed": false
   },
   "outputs": [],
   "source": "from snowflake.snowpark.context import get_active_session\nsession = get_active_session()\ndf = session.table(\"HEALTH_HYGIENE_DATA\")",
   "execution_count": null
  },
  {
   "cell_type": "code",
   "id": "482f7f17-8b51-4933-b29a-46e96d4c7257",
   "metadata": {
    "language": "python",
    "name": "cell1"
   },
   "outputs": [],
   "source": "df = session.table(\"HEALTH_HYGIENE_DATA\")",
   "execution_count": null
  },
  {
   "cell_type": "markdown",
   "id": "526719f5-2f3a-42dc-9b49-26b33f8eef84",
   "metadata": {
    "name": "cell6",
    "collapsed": false
   },
   "source": "##### Calculate total IHHL over the years"
  },
  {
   "cell_type": "code",
   "id": "4e77db98-7126-4c92-905b-dc1ae66abb8b",
   "metadata": {
    "language": "python",
    "name": "cell2",
    "codeCollapsed": false
   },
   "outputs": [],
   "source": "financial_year_col = \"FINANCIAL_YEAR\"  \ntotal_ihhl = df.group_by(financial_year_col).agg({\"TOTAL_IHHL\": \"sum\"}).sort(financial_year_col)\n# Show results\ntotal_ihhl.show()\n",
   "execution_count": null
  },
  {
   "cell_type": "markdown",
   "id": "4ffc4c3d-a5d6-4a3d-b432-9fca4361b92e",
   "metadata": {
    "name": "cell8",
    "collapsed": false
   },
   "source": "#####  Insights"
  },
  {
   "cell_type": "code",
   "id": "13dc5b92-6767-4a8a-ac54-1ae11af72a17",
   "metadata": {
    "language": "python",
    "name": "cell5",
    "codeCollapsed": false
   },
   "outputs": [],
   "source": "# Find insights\ninsights = {\n    \"max_bpl\": df.agg({\"IHHL_BPL\": \"max\"}).collect()[0][0],\n    \"max_apl\": df.agg({\"IHHL_APL\": \"max\"}).collect()[0][0],\n    \"max_total_ihhl\": df.agg({\"Total_IHHL\": \"max\"}).collect()[0][0],\n    \"min_bpl\": df.agg({\"IHHL_BPL\": \"min\"}).collect()[0][0],\n    \"min_apl\": df.agg({\"IHHL_APL\": \"min\"}).collect()[0][0],\n    \"min_total_ihhl\": df.agg({\"Total_IHHL\": \"min\"}).collect()[0][0],\n}\n\nprint(\"Insights:\")\nprint(insights)",
   "execution_count": null
  },
  {
   "cell_type": "markdown",
   "id": "679ffab1-f599-4d54-90fc-127c75219d87",
   "metadata": {
    "name": "cell9",
    "collapsed": false
   },
   "source": "#### Conclusion:\n1. The Total Sanitation Campaign during the Eleventh Plan demonstrated consistent progress in IHHL construction, with a significant increase in 2009-10.\n2. The data reveals that APL households benefitted slightly more than BPL households, which may suggest the need to evaluate whether the campaign's focus was sufficiently directed toward the more economically disadvantaged BPL category.\n3. While the campaign showed substantial output, there were fluctuations in progress across the years, likely driven by shifts in policy implementation or resource allocation during different financial years.\n4. These insights indicate the success and challenges of the Total Sanitation Campaign, and further analysis could explore whether similar trends are visible in the construction of school toilets, sanitary complexes, and anganwadi toilets."
  },
  {
   "cell_type": "code",
   "id": "bbaa037e-d836-46ce-bc8f-8cd01b4ade1b",
   "metadata": {
    "language": "python",
    "name": "cell7",
    "codeCollapsed": false
   },
   "outputs": [],
   "source": "",
   "execution_count": null
  }
 ]
}